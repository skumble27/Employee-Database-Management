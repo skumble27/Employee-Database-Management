{
 "metadata": {
  "language_info": {
   "codemirror_mode": {
    "name": "ipython",
    "version": 3
   },
   "file_extension": ".py",
   "mimetype": "text/x-python",
   "name": "python",
   "nbconvert_exporter": "python",
   "pygments_lexer": "ipython3",
   "version": "3.6.12-final"
  },
  "orig_nbformat": 2,
  "kernelspec": {
   "name": "Python 3.6.12 64-bit ('SQLAlchemyProject': conda)",
   "display_name": "Python 3.6.12 64-bit ('SQLAlchemyProject': conda)",
   "metadata": {
    "interpreter": {
     "hash": "f7e8eea10f3237b96b8f56b15f5d7edc1bd77643d9a75f29185e9a762ea03b8d"
    }
   }
  }
 },
 "nbformat": 4,
 "nbformat_minor": 2,
 "cells": [
  {
   "cell_type": "code",
   "execution_count": 3,
   "metadata": {},
   "outputs": [],
   "source": [
    "# Importing the relevant modules\n",
    "import matplotlib.pyplot as plt\n",
    "import pandas\n",
    "from sqlalchemy import create_engine"
   ]
  },
  {
   "cell_type": "code",
   "execution_count": null,
   "metadata": {},
   "outputs": [],
   "source": [
    "# Creating a search engine"
   ]
  }
 ]
}